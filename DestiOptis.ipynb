{
 "cells": [
  {
   "cell_type": "markdown",
   "metadata": {},
   "source": [
    "# Imports nécessaires"
   ]
  },
  {
   "cell_type": "code",
   "execution_count": 36,
   "metadata": {},
   "outputs": [],
   "source": [
    "import pandas as pd\n",
    "from datetime import datetime"
   ]
  },
  {
   "cell_type": "markdown",
   "metadata": {},
   "source": [
    "# Classe qui a pour but de retourner efficacement toutes les destinations d'une ville"
   ]
  },
  {
   "cell_type": "code",
   "execution_count": 57,
   "metadata": {},
   "outputs": [],
   "source": [
    "SEUIL_DISTANCE = 0.03\n",
    "\n",
    "class DestiOptis:\n",
    "    stops = []\n",
    "    calendar_dates = []\n",
    "    routes = []\n",
    "    stop_times = []\n",
    "    trips = []\n",
    "    lat = 0\n",
    "    lon = 0\n",
    "    date_min = None\n",
    "    date_max = None\n",
    "\n",
    "    def __init__(self, path ='TER'):\n",
    "        self.calendar_dates = pd.read_csv('Data/'+ path +'/calendar_dates.txt')\n",
    "        self.stop_times = pd.read_csv('Data/'+ path +'/stop_times.txt')[['trip_id', 'stop_id', 'departure_time']]\n",
    "        self.stops = pd.read_csv('Data/'+ path +'/stops.txt')[['stop_id', 'stop_name', 'stop_lat', 'stop_lon', 'parent_station']]\n",
    "        self.trips = pd.read_csv('Data/'+ path +'/trips.txt')[['service_id', 'trip_id', 'route_id']]\n",
    "        self.calendar_dates.date = pd.to_datetime(self.calendar_dates[\"date\"], format='%Y%m%d')\n",
    "        self.stop_times['departure_time'] = pd.to_timedelta(self.stop_times['departure_time'])\n",
    "        self.stops['parent_station'] = self.stops['parent_station'].fillna('')\n",
    "    \n",
    "    def load_search_destinations(self, lat, lon ,date_min= datetime.today,date_max = datetime.today):\n",
    "        self.lat = lat\n",
    "        self.lon = lon\n",
    "        self.date_min = datetime.strptime(date_min, '%Y%m%d')\n",
    "        self.date_max = datetime.strptime(date_max, '%Y%m%d')\n",
    "    \n",
    "    # Etape 1 : Récupérer les stops de la ville / StopArea\n",
    "    def get_stops(self):\n",
    "        self.id_ville = self.villes_proches(self.lat, self.lon)\n",
    "        ville_Set = set(self.id_ville['stop_id'].array)\n",
    "        return self.stops[[set([l]).issubset(ville_Set) for l in self.stops.parent_station.values.tolist()]]['stop_id']\n",
    "\n",
    "    # Retourne les stopArea proche du point de départ\n",
    "    def villes_proches(self,lat,long):\n",
    "        return self.stops[(self.stops['stop_lat'] > lat-SEUIL_DISTANCE) & (self.stops['stop_lat'] < lat+SEUIL_DISTANCE) & (self.stops['stop_lon'] > long-SEUIL_DISTANCE) & (self.stops['stop_lon'] < long+SEUIL_DISTANCE) & self.stops['stop_id'].str.contains('StopArea')]\n",
    "    "
   ]
  },
  {
   "cell_type": "code",
   "execution_count": 60,
   "metadata": {},
   "outputs": [],
   "source": [
    "# Initialisation pour les tests\n",
    "Desti = DestiOptis()"
   ]
  },
  {
   "cell_type": "code",
   "execution_count": 48,
   "metadata": {},
   "outputs": [
    {
     "name": "stdout",
     "output_type": "stream",
     "text": [
      "   service_id       date  exception_type\n",
      "0           1 2024-06-30               1\n",
      "1           1 2024-07-07               1\n",
      "2           1 2024-07-14               1\n",
      "3           1 2024-07-21               1\n",
      "4           1 2024-07-28               1\n",
      "2024-06-30 07:28:00\n"
     ]
    }
   ],
   "source": [
    "print(Desti.calendar_dates.head())\n",
    "print(Desti.calendar_dates.date[0]+Desti.stop_times.departure_time[0])"
   ]
  }
 ],
 "metadata": {
  "kernelspec": {
   "display_name": "base",
   "language": "python",
   "name": "python3"
  },
  "language_info": {
   "codemirror_mode": {
    "name": "ipython",
    "version": 3
   },
   "file_extension": ".py",
   "mimetype": "text/x-python",
   "name": "python",
   "nbconvert_exporter": "python",
   "pygments_lexer": "ipython3",
   "version": "3.11.7"
  }
 },
 "nbformat": 4,
 "nbformat_minor": 2
}
