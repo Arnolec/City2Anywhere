{
 "cells": [
  {
   "cell_type": "markdown",
   "metadata": {},
   "source": [
    "# Imports nécessaires"
   ]
  },
  {
   "cell_type": "code",
   "execution_count": 4,
   "metadata": {},
   "outputs": [],
   "source": [
    "import pandas as pd\n",
    "from datetime import datetime"
   ]
  },
  {
   "cell_type": "markdown",
   "metadata": {},
   "source": [
    "# Classe qui a pour but de retourner efficacement toutes les destinations d'une ville"
   ]
  },
  {
   "cell_type": "code",
   "execution_count": 5,
   "metadata": {},
   "outputs": [],
   "source": [
    "SEUIL_DISTANCE = 0.03\n",
    "\n",
    "class DestiOptis:\n",
    "    arrets_depart = []\n",
    "    stops = []\n",
    "    calendar_dates = []\n",
    "    routes = []\n",
    "    stop_times = []\n",
    "    trips = []\n",
    "    lat = 0\n",
    "    lon = 0\n",
    "    date_min = pd.to_datetime('2024-07-01')\n",
    "    date_max = pd.to_datetime('2024-08-31')\n",
    "\n",
    "    def __init__(self, path ='TER'):\n",
    "        self.calendar_dates = pd.read_csv('Data/'+ path +'/calendar_dates.txt')\n",
    "        self.stop_times = pd.read_csv('Data/'+ path +'/stop_times.txt')[['trip_id', 'stop_id', 'departure_time']]\n",
    "        self.stops = pd.read_csv('Data/'+ path +'/stops.txt')[['stop_id', 'stop_name', 'stop_lat', 'stop_lon', 'parent_station']]\n",
    "        self.trips = pd.read_csv('Data/'+ path +'/trips.txt')[['service_id', 'trip_id', 'route_id']]\n",
    "        self.calendar_dates.date = pd.to_datetime(self.calendar_dates[\"date\"], format='%Y%m%d')\n",
    "        self.stop_times['departure_time'] = pd.to_timedelta(self.stop_times['departure_time'])\n",
    "        self.stops['parent_station'] = self.stops['parent_station'].fillna('')\n",
    "    \n",
    "    def load_search_destinations(self, lat, lon ,date_min= datetime.today,date_max = datetime.today):\n",
    "        self.lat = lat\n",
    "        self.lon = lon\n",
    "        self.date_min = datetime.strptime(date_min, '%Y%m%d')\n",
    "        self.date_max = datetime.strptime(date_max, '%Y%m%d')\n",
    "    \n",
    "\n",
    "    # Retourne les StopPoints proche du point de départ\n",
    "    def stops_proches(self,lat,long): # Stop ID pour Global, parent_station pour SNCF\n",
    "        return self.stops[(self.stops['stop_lat'] > lat-SEUIL_DISTANCE) & (self.stops['stop_lat'] < lat+SEUIL_DISTANCE) & (self.stops['stop_lon'] > long-SEUIL_DISTANCE) & (self.stops['stop_lon'] < long+SEUIL_DISTANCE) & self.stops['parent_station'].str.contains('StopArea')]\n",
    "    \n",
    "    def trips_stops_proches(self, lat, long):\n",
    "        stops_proches = self.stops_proches(lat,long)\n",
    "        trips = self.stop_times[self.stop_times['stop_id'].isin(stops_proches['stop_id'])]\n",
    "        self.arrets_depart = trips.drop_duplicates(subset='trip_id')\n",
    "        trips_ids = self.arrets_depart['trip_id']\n",
    "        return trips_ids\n",
    "    \n",
    "    def trips_dans_periode(self, lat, long):\n",
    "        trips_ids = self.trips_stops_proches(lat,long)\n",
    "        trips = self.trips[self.trips['trip_id'].isin(trips_ids)]\n",
    "        services = self.calendar_dates[self.calendar_dates['service_id'].isin(trips['service_id'])]\n",
    "        services_dans_periode = services[(services['date'] > self.date_min) & (services['date'] < self.date_max)]\n",
    "        services_dans_periode.drop_duplicates(subset='service_id')\n",
    "        trips_dans_periode = trips[trips['service_id'].isin(services_dans_periode['service_id'])]\n",
    "        return trips_dans_periode['trip_id']\n",
    "    \n",
    "    def get_destinations(self, lat, long):\n",
    "        trips_ids_dans_periode = self.trips_dans_periode(lat,long)\n",
    "        stop_times_arret_correct = self.stop_times[self.stop_times['trip_id'].isin(trips_ids_dans_periode)]\n",
    "        stop_times_temps_superieur = stop_times_arret_correct.assign(temps_depart = \"\", stop_id_ville = \"\")\n",
    "\n",
    "        stop_ids_depart = self.arrets_depart['stop_id']\n",
    "        stop_ids_depart.index = self.arrets_depart['trip_id']\n",
    "        stop_id_depart = stop_ids_depart.loc[stop_times_temps_superieur['trip_id']]\n",
    "        stop_times_temps_superieur['stop_id_ville'] = stop_id_depart.array\n",
    "\n",
    "        temps_depart = self.arrets_depart['departure_time'] #StopTime trip\n",
    "        temps_depart.index = self.arrets_depart['trip_id']\n",
    "        colonne_temps_depart = temps_depart.loc[stop_times_temps_superieur['trip_id']]\n",
    "        stop_times_temps_superieur['temps_ville'] = colonne_temps_depart.array\n",
    "\n",
    "        destinations_doublons_stop_points = stop_times_temps_superieur[stop_times_temps_superieur['departure_time'] > stop_times_temps_superieur['temps_ville']]\n",
    "        destinations_doublons_stop_points = self.stops[self.stops['stop_id'].isin(destinations_doublons_stop_points['stop_id'])]\n",
    "        destinations_doublons_stop_area = self.stops[self.stops['stop_id'].isin(destinations_doublons_stop_points['parent_station'])]\n",
    "        destinations_stop_area = destinations_doublons_stop_area.drop_duplicates(subset='stop_id')\n",
    "        destinations = destinations_stop_area[~destinations_stop_area['stop_id'].isin(self.stops_proches(lat,long)['parent_station'])]\n",
    "        return destinations\n",
    "    "
   ]
  },
  {
   "cell_type": "code",
   "execution_count": 6,
   "metadata": {},
   "outputs": [],
   "source": [
    "# Initialisation pour les tests\n",
    "desti = DestiOptis()\n",
    "import AnalyzerGTFS as ag"
   ]
  },
  {
   "cell_type": "code",
   "execution_count": 8,
   "metadata": {},
   "outputs": [
    {
     "name": "stdout",
     "output_type": "stream",
     "text": [
      "                   stop_id                      stop_name   stop_lat  \\\n",
      "3807  StopArea:OCE87481002                         Nantes  47.217491   \n",
      "3828  StopArea:OCE87481192                        Ancenis  47.369334   \n",
      "3910  StopArea:OCE87484006              Angers Saint-Laud  47.464649   \n",
      "4066  StopArea:OCE87487603                         Saumur  47.268994   \n",
      "4223  StopArea:OCE87543017                    Les Aubrais  47.926801   \n",
      "...                    ...                            ...        ...   \n",
      "5180  StopArea:OCE87597070                 Neuvy-Pailloux  46.882716   \n",
      "5189  StopArea:OCE87597120            Argenton-sur-Creuse  46.592250   \n",
      "5193  StopArea:OCE87597153                         Éguzon  46.439769   \n",
      "6549  StopArea:OCE87696005                         Nevers  46.987282   \n",
      "7512  StopArea:OCE87726364  Chartres Pôle d'Échange Compa  48.446547   \n",
      "\n",
      "      stop_lon parent_station  \n",
      "3807 -1.542077                 \n",
      "3828 -1.177763                 \n",
      "3910 -0.556770                 \n",
      "4066 -0.071403                 \n",
      "4223  1.907129                 \n",
      "...        ...            ...  \n",
      "5180  1.862757                 \n",
      "5189  1.518256                 \n",
      "5193  1.552171                 \n",
      "6549  3.150743                 \n",
      "7512  1.476653                 \n",
      "\n",
      "[71 rows x 5 columns]\n",
      "0.12890911102294922\n",
      "0.054436445236206055\n"
     ]
    }
   ],
   "source": [
    "# Coordonnées d'Orléans : 47.9078910, 1.90424200\n",
    "import time\n",
    "\n",
    "AnalyzerGTFS = ag.AnalyzerGTFS()\n",
    "st1 = time.time()\n",
    "a = AnalyzerGTFS.get_destinations(47.9078910, 1.90424200,'20240718', '20240718')\n",
    "et1 = time.time()\n",
    "\n",
    "st2 = time.time()\n",
    "a = desti.get_destinations(47.9078910, 1.90424200)\n",
    "et2 = time.time()\n",
    "\n",
    "print(et1-st1)\n",
    "print(et2-st2)\n",
    "\n",
    "\n",
    "#print(desti.trips_dans_periode_2(47.9078910, 1.90424200))\n",
    "#print(len(desti.trips_dans_periode(47.9078910, 1.90424200)))\n",
    "#print(len(desti.trips_dans_periode_2(47.9078910, 1.90424200)))\n",
    "#print(desti.trips_proches(47.9078910, 1.90424200))"
   ]
  },
  {
   "cell_type": "code",
   "execution_count": null,
   "metadata": {},
   "outputs": [],
   "source": [
    "a = desti.trips_dans_periode(47.9078910, 1.90424200)\n",
    "\n"
   ]
  },
  {
   "cell_type": "markdown",
   "metadata": {},
   "source": [
    "# Optimisation de la recherche de trajet entre deux villes"
   ]
  },
  {
   "cell_type": "code",
   "execution_count": null,
   "metadata": {},
   "outputs": [],
   "source": [
    "SEUIL_DISTANCE = 0.03\n",
    "import pandas as pd\n",
    "from datetime import datetime\n",
    "\n",
    "class TrajetOptis:\n",
    "    arrets_depart = []\n",
    "    stops = []\n",
    "    calendar_dates = []\n",
    "    routes = []\n",
    "    stop_times = []\n",
    "    trips = []\n",
    "    lat = 0\n",
    "    lon = 0\n",
    "    date_min = pd.to_datetime('2024-07-01')\n",
    "    date_max = pd.to_datetime('2024-08-31')\n",
    "\n",
    "    def __init__(self, path ='TER'):\n",
    "        self.calendar_dates = pd.read_csv('Data/'+ path +'/calendar_dates.txt')\n",
    "        self.stop_times = pd.read_csv('Data/'+ path +'/stop_times.txt')[['trip_id', 'stop_id', 'departure_time']]\n",
    "        self.stops = pd.read_csv('Data/'+ path +'/stops.txt')[['stop_id', 'stop_name', 'stop_lat', 'stop_lon', 'parent_station']]\n",
    "        self.trips = pd.read_csv('Data/'+ path +'/trips.txt')[['service_id', 'trip_id', 'route_id']]\n",
    "        self.calendar_dates.date = pd.to_datetime(self.calendar_dates[\"date\"], format='%Y%m%d')\n",
    "        self.stop_times['departure_time'] = pd.to_timedelta(self.stop_times['departure_time'])\n",
    "        self.stops['parent_station'] = self.stops['parent_station'].fillna('')\n",
    "    \n",
    "    def load_search_destinations(self, lat, lon ,date_min= datetime.today,date_max = datetime.today):\n",
    "        self.lat = lat\n",
    "        self.lon = lon\n",
    "        self.date_min = datetime.strptime(date_min, '%Y%m%d')\n",
    "        self.date_max = datetime.strptime(date_max, '%Y%m%d')\n",
    "\n",
    "    def get_trajets(self, lat_arrivee, lon_arrivee):\n",
    "        stops_depart = self.stops[(self.stops['stop_lat'] > self.lat-SEUIL_DISTANCE) & (self.stops['stop_lat'] < self.lat+SEUIL_DISTANCE) & (self.stops['stop_lon'] > self.lon-SEUIL_DISTANCE) & (self.stops['stop_lon'] < self.lon+SEUIL_DISTANCE) & self.stops['parent_station'].str.contains('StopArea')]\n",
    "        stops_arrivee = self.stops[(self.stops['stop_lat'] > lat_arrivee-SEUIL_DISTANCE/2) & (self.stops['stop_lat'] < lat_arrivee+SEUIL_DISTANCE/2) & (self.stops['stop_lon'] > lon_arrivee-SEUIL_DISTANCE/2) & (self.stops['stop_lon'] < lon_arrivee+SEUIL_DISTANCE/2) & self.stops['parent_station'].str.contains('StopArea')]\n",
    "        trajets_avec_stops_depart = self.stop_times[self.stop_times['stop_id'].isin(stops_depart['stop_id'])]\n",
    "        trajets_avec_stops_arrivee = self.stop_times[self.stop_times['stop_id'].isin(stops_arrivee['stop_id'])]\n",
    "        trips_avec_depart_arrivee =  pd.merge(trajets_avec_stops_depart,trajets_avec_stops_arrivee, on = 'trip_id')\n",
    "        trips_heure = trips_avec_depart_arrivee[trips_avec_depart_arrivee['departure_time_x'] < trips_avec_depart_arrivee['departure_time_y']]\n",
    "        trips = pd.merge(trips_heure, self.trips, on = 'trip_id')\n",
    "        trips_et_jours = pd.merge(trips, self.calendar_dates, on = 'service_id')\n",
    "        trajets = trips_et_jours[(trips_et_jours['date'] >= self.date_min) & (trips_et_jours['date'] <= self.date_max)]\n",
    "        trajets = trajets.assign(horaire_depart = \"\", horaire_arrivee = \"\")\n",
    "        trajets['horaire_depart'] = trajets.apply(lambda x : x['departure_time_x']+x['date'], axis=1)\n",
    "        trajets['horaire_arrivee'] = trajets.apply(lambda x : x['departure_time_y']+x['date'], axis=1)\n",
    "        return trajets\n",
    "\n",
    "    # Retourne les StopPoints proche du point de départ\n",
    "    def stops_proches(self,lat,long): # Stop ID pour Global, parent_station pour SNCF\n",
    "        return self.stops[(self.stops['stop_lat'] > lat-SEUIL_DISTANCE) & (self.stops['stop_lat'] < lat+SEUIL_DISTANCE) & (self.stops['stop_lon'] > long-SEUIL_DISTANCE) & (self.stops['stop_lon'] < long+SEUIL_DISTANCE) & self.stops['parent_station'].str.contains('StopArea')]\n",
    "    "
   ]
  },
  {
   "cell_type": "code",
   "execution_count": null,
   "metadata": {},
   "outputs": [],
   "source": [
    "trajet_Opti = TrajetOptis()"
   ]
  },
  {
   "cell_type": "code",
   "execution_count": 1,
   "metadata": {},
   "outputs": [],
   "source": [
    "import AnalyzerGTFS\n",
    "AnalyzerGTFS = AnalyzerGTFS.AnalyzerGTFS()"
   ]
  },
  {
   "cell_type": "code",
   "execution_count": null,
   "metadata": {},
   "outputs": [],
   "source": [
    "import time\n",
    "\n",
    "st1 = time.time()\n",
    "a = AnalyzerGTFS.trajet_destination('StopArea:OCE87547000')\n",
    "print(len(a))\n",
    "et1 = time.time()\n",
    "\n",
    "st2 = time.time()\n",
    "a = trajet_Opti.get_trajets(48.8422850,2.36489100)\n",
    "print(len(a))\n",
    "et2 = time.time()\n",
    "\n",
    "print(et1-st1)\n",
    "print(et2-st2)\n",
    "a = a.sort_values(by=['departure_time_x'])\n",
    "for i in a.itertuples():\n",
    "    print(i.horaire_depart, i.horaire_arrivee)"
   ]
  }
 ],
 "metadata": {
  "kernelspec": {
   "display_name": "base",
   "language": "python",
   "name": "python3"
  },
  "language_info": {
   "codemirror_mode": {
    "name": "ipython",
    "version": 3
   },
   "file_extension": ".py",
   "mimetype": "text/x-python",
   "name": "python",
   "nbconvert_exporter": "python",
   "pygments_lexer": "ipython3",
   "version": "3.11.7"
  }
 },
 "nbformat": 4,
 "nbformat_minor": 2
}
